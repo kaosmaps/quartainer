{
  "cells": [
    {
      "cell_type": "raw",
      "metadata": {},
      "source": [
        "---\n",
        "title: Quarto + Docker Demo\n",
        "format:\n",
        "  html:\n",
        "    code-fold: true\n",
        "---"
      ],
      "id": "06ddeddd"
    },
    {
      "cell_type": "markdown",
      "metadata": {},
      "source": [
        "## Air Quality\n",
        "\n",
        "@fig-airquality further explores the impact of temperature on ozone level.\n",
        "\n",
        "\n",
        "```{r}\n",
        "#| label: fig-airquality\n",
        "#| fig-cap: Temperature and ozone level.\n",
        "#| warning: false\n",
        "\n",
        "library(ggplot2)\n",
        "\n",
        "ggplot(airquality, aes(Temp, Ozone)) + \n",
        "  geom_point() + \n",
        "  geom_smooth(method = \"loess\"\n",
        ")\n",
        "```\n",
        "\n",
        "\n",
        "## Julia\n",
        "\n",
        "Plot function pair (x(u), y(u)). \n",
        "See @fig-parametric for an example.\n"
      ],
      "id": "b34f505e"
    },
    {
      "cell_type": "code",
      "metadata": {},
      "source": [
        "#| label: fig-parametric\n",
        "#| fig-cap: Parametric Plots\n",
        "\n",
        "using Plots\n",
        "\n",
        "plot(sin, \n",
        "     x->sin(2x), \n",
        "     0, \n",
        "     2π, \n",
        "     leg=false, \n",
        "     fill=(0,:lavender))"
      ],
      "id": "fig-parametric",
      "execution_count": null,
      "outputs": []
    }
  ],
  "metadata": {
    "kernelspec": {
      "name": "julia-1.7",
      "language": "julia",
      "display_name": "Julia 1.7.2"
    }
  },
  "nbformat": 4,
  "nbformat_minor": 5
}